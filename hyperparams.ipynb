{
 "cells": [
  {
   "cell_type": "code",
   "execution_count": 1,
   "metadata": {},
   "outputs": [],
   "source": [
    "import csv\n",
    "import itertools\n",
    "from collections import defaultdict\n",
    "from typing import DefaultDict, Dict, List, Set, Tuple"
   ]
  },
  {
   "cell_type": "code",
   "execution_count": 2,
   "metadata": {},
   "outputs": [
    {
     "data": {
      "text/plain": [
       "({'50.10.1',\n",
       "  '50.10.3',\n",
       "  '50.20.1',\n",
       "  '50.20.3',\n",
       "  '50.30.1',\n",
       "  '50.30.3',\n",
       "  '50.40.1',\n",
       "  '50.40.3'},\n",
       " {0.1, 0.5, 0.9},\n",
       " {10, 15, 20},\n",
       " {20, 50, 80})"
      ]
     },
     "execution_count": 2,
     "metadata": {},
     "output_type": "execute_result"
    }
   ],
   "source": [
    "data: DefaultDict[str, DefaultDict[float, DefaultDict[int, DefaultDict[int, List[Tuple[float, float]]]]]] = defaultdict(\n",
    "    lambda: defaultdict(lambda: defaultdict(lambda: defaultdict(list)))\n",
    ")\n",
    "possible: Tuple[Set[str], Set[float], Set[int], Set[int]] = (set(), set(), set(), set())\n",
    "with open(\"vrpdfd-summary.csv\", \"r\", encoding=\"utf-8\", newline=\"\") as csvfile:\n",
    "    csvreader = csv.reader(csvfile, delimiter=\",\", quotechar=\"\\\"\")\n",
    "    csvlines = iter(csvreader)\n",
    "    next(csvlines)  # Skip header\n",
    "\n",
    "    for row in csvlines:\n",
    "        problem = row[0]\n",
    "        mutation_rate = float(row[3])\n",
    "        reset_after = int(row[4])\n",
    "        local_search_batch = int(row[6])\n",
    "        profit = float(row[7])\n",
    "        computation_time = float(row[11])\n",
    "\n",
    "        possible[0].add(problem)\n",
    "        possible[1].add(mutation_rate)\n",
    "        possible[2].add(reset_after)\n",
    "        possible[3].add(local_search_batch)\n",
    "        data[problem][mutation_rate][reset_after][local_search_batch].append((profit, computation_time))\n",
    "\n",
    "possible"
   ]
  },
  {
   "cell_type": "code",
   "execution_count": 3,
   "metadata": {},
   "outputs": [
    {
     "data": {
      "text/plain": [
       "{'50.30.1': -41288.32555555556,\n",
       " '50.30.3': -33825.53277777779,\n",
       " '50.20.3': 1640.9681481481523,\n",
       " '50.40.1': -104734.75259259259,\n",
       " '50.20.1': 1714.720555555556,\n",
       " '50.40.3': -75660.03851851846,\n",
       " '50.10.1': 25017.75314814814,\n",
       " '50.10.3': 27184.65129629628}"
      ]
     },
     "execution_count": 3,
     "metadata": {},
     "output_type": "execute_result"
    }
   ],
   "source": [
    "sums: DefaultDict[str, List[float]] = defaultdict(list)\n",
    "for problem, mutation_rate, reset_after, local_search_batch in itertools.product(*possible):\n",
    "    sums[problem].extend(profit for profit, _ in data[problem][mutation_rate][reset_after][local_search_batch])\n",
    "\n",
    "average: Dict[str, float] = {}\n",
    "for problem, s in sums.items():\n",
    "    average[problem] = sum(s) / len(s)\n",
    "\n",
    "average"
   ]
  },
  {
   "cell_type": "code",
   "execution_count": 4,
   "metadata": {},
   "outputs": [],
   "source": [
    "normalized_data: DefaultDict[str, DefaultDict[float, DefaultDict[int, Dict[int, float]]]] = defaultdict(\n",
    "    lambda: defaultdict(lambda: defaultdict(dict))\n",
    ")\n",
    "max_data: DefaultDict[str, DefaultDict[float, DefaultDict[int, Dict[int, float]]]] = defaultdict(\n",
    "    lambda: defaultdict(lambda: defaultdict(dict))\n",
    ")\n",
    "\n",
    "for problem, mutation_rate, reset_after, local_search_batch in itertools.product(*possible):\n",
    "    profits = [profit for profit, _ in data[problem][mutation_rate][reset_after][local_search_batch]]\n",
    "    normalized_data[problem][mutation_rate][reset_after][local_search_batch] = (sum(profits) / len(profits) - average[problem]) / abs(average[problem])\n",
    "    max_data[problem][mutation_rate][reset_after][local_search_batch] = (max(profits) - average[problem]) / abs(average[problem])"
   ]
  },
  {
   "cell_type": "code",
   "execution_count": 5,
   "metadata": {},
   "outputs": [
    {
     "data": {
      "text/plain": [
       "{(0.1, 10, 80): 0.813408666481487,\n",
       " (0.1, 10, 50): 0.6827108838399916,\n",
       " (0.1, 10, 20): 0.5421534945217578,\n",
       " (0.1, 20, 80): -0.6092462800257489,\n",
       " (0.1, 20, 50): -0.7468513303801315,\n",
       " (0.1, 20, 20): -0.7071080484322034,\n",
       " (0.1, 15, 80): -0.1642705703782099,\n",
       " (0.1, 15, 50): -0.0931359757090737,\n",
       " (0.1, 15, 20): 0.024959649349843217,\n",
       " (0.5, 10, 80): 0.42270460092792644,\n",
       " (0.5, 10, 50): 0.5584715913603281,\n",
       " (0.5, 10, 20): 0.6273103924215566,\n",
       " (0.5, 20, 80): -0.5882734968309051,\n",
       " (0.5, 20, 50): -0.5807847435463565,\n",
       " (0.5, 20, 20): -0.3348013105984479,\n",
       " (0.5, 15, 80): -0.19263411642195732,\n",
       " (0.5, 15, 50): -0.06259301431084931,\n",
       " (0.5, 15, 20): -0.25365257476289027,\n",
       " (0.9, 10, 80): 0.7237488473995,\n",
       " (0.9, 10, 50): 0.7382224915021389,\n",
       " (0.9, 10, 20): 0.45335758690712774,\n",
       " (0.9, 20, 80): -0.40189931829454933,\n",
       " (0.9, 20, 50): -0.4604150639573386,\n",
       " (0.9, 20, 20): -0.40248616715509566,\n",
       " (0.9, 15, 80): 0.04691770521351675,\n",
       " (0.9, 15, 50): -0.011206161442589372,\n",
       " (0.9, 15, 20): -0.02460773767882326}"
      ]
     },
     "execution_count": 5,
     "metadata": {},
     "output_type": "execute_result"
    }
   ],
   "source": [
    "normalized_improved: Dict[Tuple[float, int, int], float] = {}\n",
    "for mutation_rate, reset_after, local_search_batch in itertools.product(*possible[1:]):\n",
    "    values: List[float] = [normalized_data[problem][mutation_rate][reset_after][local_search_batch] for problem in possible[0]]\n",
    "    normalized_improved[mutation_rate, reset_after, local_search_batch] = sum(values) / len(values)\n",
    "\n",
    "normalized_improved"
   ]
  },
  {
   "cell_type": "code",
   "execution_count": 6,
   "metadata": {},
   "outputs": [
    {
     "data": {
      "text/plain": [
       "{(0.1, 10, 80): 1.4941808909128995,\n",
       " (0.1, 10, 50): 1.4006165571720306,\n",
       " (0.1, 10, 20): 1.3680793481723068,\n",
       " (0.1, 20, 80): 0.5907479589101973,\n",
       " (0.1, 20, 50): 0.27639485474304326,\n",
       " (0.1, 20, 20): 0.4276068281677539,\n",
       " (0.1, 15, 80): 1.0885251726223315,\n",
       " (0.1, 15, 50): 0.9907641564867715,\n",
       " (0.1, 15, 20): 1.0348402757813944,\n",
       " (0.5, 10, 80): 1.3106409323372996,\n",
       " (0.5, 10, 50): 1.1881921113429321,\n",
       " (0.5, 10, 20): 1.4271964395622712,\n",
       " (0.5, 20, 80): 0.6421297398507653,\n",
       " (0.5, 20, 50): 0.6746216744874999,\n",
       " (0.5, 20, 20): 0.9412482984607421,\n",
       " (0.5, 15, 80): 0.8597193939907609,\n",
       " (0.5, 15, 50): 1.0901252200990892,\n",
       " (0.5, 15, 20): 1.0027922345731328,\n",
       " (0.9, 10, 80): 1.4686635171904376,\n",
       " (0.9, 10, 50): 1.5186452974259095,\n",
       " (0.9, 10, 20): 1.454935048038959,\n",
       " (0.9, 20, 80): 0.8377186888306608,\n",
       " (0.9, 20, 50): 0.8837429419585765,\n",
       " (0.9, 20, 20): 0.979536488177732,\n",
       " (0.9, 15, 80): 0.9796019819212152,\n",
       " (0.9, 15, 50): 1.0829304234266541,\n",
       " (0.9, 15, 20): 0.758204686065323}"
      ]
     },
     "execution_count": 6,
     "metadata": {},
     "output_type": "execute_result"
    }
   ],
   "source": [
    "max_improved: Dict[Tuple[float, int, int], float] = {}\n",
    "for mutation_rate, reset_after, local_search_batch in itertools.product(*possible[1:]):\n",
    "    values: List[float] = [max_data[problem][mutation_rate][reset_after][local_search_batch] for problem in possible[0]]\n",
    "    max_improved[mutation_rate, reset_after, local_search_batch] = sum(values) / len(values)\n",
    "\n",
    "max_improved"
   ]
  },
  {
   "cell_type": "code",
   "execution_count": 7,
   "metadata": {},
   "outputs": [
    {
     "data": {
      "text/plain": [
       "(0.1, 10, 80)"
      ]
     },
     "execution_count": 7,
     "metadata": {},
     "output_type": "execute_result"
    }
   ],
   "source": [
    "max(itertools.product(*possible[1:]), key=normalized_improved.__getitem__)"
   ]
  },
  {
   "cell_type": "code",
   "execution_count": 8,
   "metadata": {},
   "outputs": [
    {
     "data": {
      "text/plain": [
       "(0.9, 10, 50)"
      ]
     },
     "execution_count": 8,
     "metadata": {},
     "output_type": "execute_result"
    }
   ],
   "source": [
    "max(itertools.product(*possible[1:]), key=max_improved.__getitem__)"
   ]
  }
 ],
 "metadata": {
  "kernelspec": {
   "display_name": ".venv",
   "language": "python",
   "name": "python3"
  },
  "language_info": {
   "codemirror_mode": {
    "name": "ipython",
    "version": 3
   },
   "file_extension": ".py",
   "mimetype": "text/x-python",
   "name": "python",
   "nbconvert_exporter": "python",
   "pygments_lexer": "ipython3",
   "version": "3.10.11"
  }
 },
 "nbformat": 4,
 "nbformat_minor": 2
}

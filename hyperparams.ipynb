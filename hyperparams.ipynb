{
 "cells": [
  {
   "cell_type": "code",
   "execution_count": 1,
   "metadata": {},
   "outputs": [],
   "source": [
    "import csv\n",
    "import itertools\n",
    "from collections import defaultdict\n",
    "from typing import DefaultDict, Dict, List, Set, Tuple"
   ]
  },
  {
   "cell_type": "code",
   "execution_count": 2,
   "metadata": {},
   "outputs": [
    {
     "data": {
      "text/plain": [
       "({'50.10.1',\n",
       "  '50.10.3',\n",
       "  '50.20.1',\n",
       "  '50.20.3',\n",
       "  '50.30.1',\n",
       "  '50.30.3',\n",
       "  '50.40.1',\n",
       "  '50.40.3'},\n",
       " {0.1, 0.5, 0.9},\n",
       " {10, 15, 20},\n",
       " {20, 50, 80})"
      ]
     },
     "execution_count": 2,
     "metadata": {},
     "output_type": "execute_result"
    }
   ],
   "source": [
    "data: DefaultDict[str, DefaultDict[float, DefaultDict[int, DefaultDict[int, List[Tuple[float, float]]]]]] = defaultdict(\n",
    "    lambda: defaultdict(lambda: defaultdict(lambda: defaultdict(list)))\n",
    ")\n",
    "possible: Tuple[Set[str], Set[float], Set[int], Set[int]] = (set(), set(), set(), set())\n",
    "with open(\"vrpdfd-summary.csv\", \"r\", encoding=\"utf-8\", newline=\"\") as csvfile:\n",
    "    csvreader = csv.reader(csvfile, delimiter=\",\", quotechar=\"\\\"\")\n",
    "    csvlines = iter(csvreader)\n",
    "    next(csvlines)  # Skip header\n",
    "\n",
    "    for row in csvlines:\n",
    "        problem = row[0]\n",
    "        mutation_rate = float(row[3])\n",
    "        reset_after = int(row[4])\n",
    "        local_search_batch = int(row[6])\n",
    "        profit = float(row[7])\n",
    "        computation_time = float(row[11])\n",
    "\n",
    "        possible[0].add(problem)\n",
    "        possible[1].add(mutation_rate)\n",
    "        possible[2].add(reset_after)\n",
    "        possible[3].add(local_search_batch)\n",
    "        data[problem][mutation_rate][reset_after][local_search_batch].append((profit, computation_time))\n",
    "\n",
    "possible"
   ]
  },
  {
   "cell_type": "code",
   "execution_count": 3,
   "metadata": {},
   "outputs": [
    {
     "data": {
      "text/plain": [
       "{'50.30.1': -42079.37000000002,\n",
       " '50.20.3': 1793.340000000003,\n",
       " '50.20.1': 1889.2668518518517,\n",
       " '50.10.3': 27271.370185185184,\n",
       " '50.40.3': -76136.85574074072,\n",
       " '50.10.1': 25204.048888888883,\n",
       " '50.40.1': -105186.51425925925,\n",
       " '50.30.3': -33908.36944444444}"
      ]
     },
     "execution_count": 3,
     "metadata": {},
     "output_type": "execute_result"
    }
   ],
   "source": [
    "sums: DefaultDict[str, List[float]] = defaultdict(list)\n",
    "for problem, mutation_rate, reset_after, local_search_batch in itertools.product(*possible):\n",
    "    sums[problem].extend(profit for profit, _ in data[problem][mutation_rate][reset_after][local_search_batch])\n",
    "\n",
    "average: Dict[str, float] = {}\n",
    "for problem, s in sums.items():\n",
    "    average[problem] = sum(s) / len(s)\n",
    "\n",
    "average"
   ]
  },
  {
   "cell_type": "code",
   "execution_count": 4,
   "metadata": {},
   "outputs": [],
   "source": [
    "normalized_data: DefaultDict[str, DefaultDict[float, DefaultDict[int, Dict[int, float]]]] = defaultdict(\n",
    "    lambda: defaultdict(lambda: defaultdict(dict))\n",
    ")\n",
    "max_data: DefaultDict[str, DefaultDict[float, DefaultDict[int, Dict[int, float]]]] = defaultdict(\n",
    "    lambda: defaultdict(lambda: defaultdict(dict))\n",
    ")\n",
    "\n",
    "for problem, mutation_rate, reset_after, local_search_batch in itertools.product(*possible):\n",
    "    profits = [profit for profit, _ in data[problem][mutation_rate][reset_after][local_search_batch]]\n",
    "    normalized_data[problem][mutation_rate][reset_after][local_search_batch] = (sum(profits) / len(profits) - average[problem]) / abs(average[problem])\n",
    "    max_data[problem][mutation_rate][reset_after][local_search_batch] = (max(profits) - average[problem]) / abs(average[problem])"
   ]
  },
  {
   "cell_type": "code",
   "execution_count": 5,
   "metadata": {},
   "outputs": [
    {
     "data": {
      "text/plain": [
       "{(0.1, 10, 80): 0.8391322182421443,\n",
       " (0.1, 10, 50): 0.6665294311075854,\n",
       " (0.1, 10, 20): 0.3911313214293701,\n",
       " (0.1, 20, 80): -0.5772411650973518,\n",
       " (0.1, 20, 50): -0.4705495989332569,\n",
       " (0.1, 20, 20): -0.4897926954323732,\n",
       " (0.1, 15, 80): -0.1390131528922687,\n",
       " (0.1, 15, 50): 0.16706562543383202,\n",
       " (0.1, 15, 20): -0.09617740637551862,\n",
       " (0.5, 10, 80): 0.5496446123796763,\n",
       " (0.5, 10, 50): 0.43021926991148723,\n",
       " (0.5, 10, 20): 0.5089568158074481,\n",
       " (0.5, 20, 80): -0.40502430935417905,\n",
       " (0.5, 20, 50): -0.45932520366055246,\n",
       " (0.5, 20, 20): -0.5542936811373362,\n",
       " (0.5, 15, 80): 0.25265387382508864,\n",
       " (0.5, 15, 50): -0.1279979299460501,\n",
       " (0.5, 15, 20): 0.0005053252520161419,\n",
       " (0.9, 10, 80): 0.5199086864209065,\n",
       " (0.9, 10, 50): 0.5998342245510422,\n",
       " (0.9, 10, 20): 0.31280797910542674,\n",
       " (0.9, 20, 80): -0.6105188320723683,\n",
       " (0.9, 20, 50): -0.5182056469481429,\n",
       " (0.9, 20, 20): -0.4783965327027651,\n",
       " (0.9, 15, 80): -0.13882822215287643,\n",
       " (0.9, 15, 50): -0.06522867416416811,\n",
       " (0.9, 15, 20): -0.10779633259681064}"
      ]
     },
     "execution_count": 5,
     "metadata": {},
     "output_type": "execute_result"
    }
   ],
   "source": [
    "normalized_improved: Dict[Tuple[float, int, int], float] = {}\n",
    "for mutation_rate, reset_after, local_search_batch in itertools.product(*possible[1:]):\n",
    "    values: List[float] = [normalized_data[problem][mutation_rate][reset_after][local_search_batch] for problem in possible[0]]\n",
    "    normalized_improved[mutation_rate, reset_after, local_search_batch] = sum(values) / len(values)\n",
    "\n",
    "normalized_improved"
   ]
  },
  {
   "cell_type": "code",
   "execution_count": 6,
   "metadata": {},
   "outputs": [
    {
     "data": {
      "text/plain": [
       "{(0.1, 10, 80): 1.2509064362425704,\n",
       " (0.1, 10, 50): 1.3307506493310872,\n",
       " (0.1, 10, 20): 1.142754244149574,\n",
       " (0.1, 20, 80): 0.8286691114022222,\n",
       " (0.1, 20, 50): 0.9396006633519889,\n",
       " (0.1, 20, 20): 0.6951673160628971,\n",
       " (0.1, 15, 80): 0.93075251603721,\n",
       " (0.1, 15, 50): 1.0111048303950203,\n",
       " (0.1, 15, 20): 0.913013587912643,\n",
       " (0.5, 10, 80): 1.3792593970560874,\n",
       " (0.5, 10, 50): 1.0984095220498984,\n",
       " (0.5, 10, 20): 1.0920609967924138,\n",
       " (0.5, 20, 80): 0.7527995638325702,\n",
       " (0.5, 20, 50): 0.7277535382442883,\n",
       " (0.5, 20, 20): 0.10792549707472573,\n",
       " (0.5, 15, 80): 1.1337419797682955,\n",
       " (0.5, 15, 50): 0.8021534534901515,\n",
       " (0.5, 15, 20): 0.9251477871891514,\n",
       " (0.9, 10, 80): 1.2564894235372754,\n",
       " (0.9, 10, 50): 1.3583536129112825,\n",
       " (0.9, 10, 20): 1.2576028928301404,\n",
       " (0.9, 20, 80): 0.4462374711562369,\n",
       " (0.9, 20, 50): 0.81079676842072,\n",
       " (0.9, 20, 20): 0.736642851851607,\n",
       " (0.9, 15, 80): 1.2126237301197442,\n",
       " (0.9, 15, 50): 1.2161093379625263,\n",
       " (0.9, 15, 20): 0.7060792730871599}"
      ]
     },
     "execution_count": 6,
     "metadata": {},
     "output_type": "execute_result"
    }
   ],
   "source": [
    "max_improved: Dict[Tuple[float, int, int], float] = {}\n",
    "for mutation_rate, reset_after, local_search_batch in itertools.product(*possible[1:]):\n",
    "    values: List[float] = [max_data[problem][mutation_rate][reset_after][local_search_batch] for problem in possible[0]]\n",
    "    max_improved[mutation_rate, reset_after, local_search_batch] = sum(values) / len(values)\n",
    "\n",
    "max_improved"
   ]
  },
  {
   "cell_type": "code",
   "execution_count": 7,
   "metadata": {},
   "outputs": [
    {
     "data": {
      "text/plain": [
       "(0.1, 10, 80)"
      ]
     },
     "execution_count": 7,
     "metadata": {},
     "output_type": "execute_result"
    }
   ],
   "source": [
    "max(itertools.product(*possible[1:]), key=normalized_improved.__getitem__)"
   ]
  },
  {
   "cell_type": "code",
   "execution_count": 8,
   "metadata": {},
   "outputs": [
    {
     "data": {
      "text/plain": [
       "(0.5, 10, 80)"
      ]
     },
     "execution_count": 8,
     "metadata": {},
     "output_type": "execute_result"
    }
   ],
   "source": [
    "max(itertools.product(*possible[1:]), key=max_improved.__getitem__)"
   ]
  }
 ],
 "metadata": {
  "kernelspec": {
   "display_name": ".venv",
   "language": "python",
   "name": "python3"
  },
  "language_info": {
   "codemirror_mode": {
    "name": "ipython",
    "version": 3
   },
   "file_extension": ".py",
   "mimetype": "text/x-python",
   "name": "python",
   "nbconvert_exporter": "python",
   "pygments_lexer": "ipython3",
   "version": "3.10.11"
  }
 },
 "nbformat": 4,
 "nbformat_minor": 2
}
